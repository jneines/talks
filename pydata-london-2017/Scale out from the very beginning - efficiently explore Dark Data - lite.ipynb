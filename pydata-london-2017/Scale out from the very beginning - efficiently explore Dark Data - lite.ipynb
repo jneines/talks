{
 "cells": [
  {
   "cell_type": "markdown",
   "metadata": {
    "slideshow": {
     "slide_type": "slide"
    }
   },
   "source": [
    "<img src=\"images/slides_titlepage.png\">\n",
    "<p id=\"title\">Scale out from the very beginning<p>\n",
    "<!-- <p id=\"subtitle\">Efficiently explore your Dark Data</p> -->\n",
    "<p id=\"event\">PyData London 2017</p>\n",
    "<p id=\"author\">Jens Nie</p>"
   ]
  },
  {
   "cell_type": "markdown",
   "metadata": {
    "slideshow": {
     "slide_type": "slide"
    }
   },
   "source": [
    "# Scale out from the very beginning\n",
    "### Efficiently explore your dark data\n",
    "\n",
    "<table id=\"contact\">\n",
    "<tr>\n",
    "<td id=\"contact\">\n",
    "<p id=\"name\">Jens Nie</p>\n",
    "<p id=\"education\">Experimental Physics</p>\n",
    "<p id=\"twitter\">@jneines</p>\n",
    "<p id=\"github\">http://www.github.com/jneines</p>\n",
    "</td>\n",
    "<td id=\"contact\">\n",
    "<p id=\"jobtitle\">Technology Scout</p>\n",
    "<p id=\"company\">ROSEN Technology &amp; Research Center</p>\n",
    "<p id=\"location\">Lingen, Germany</p>\n",
    "<p id=\"mail\">jnie@rosen-group.com</p>\n",
    "</td>\n",
    "</tr>\n",
    "</table>"
   ]
  },
  {
   "cell_type": "markdown",
   "metadata": {
    "slideshow": {
     "slide_type": "slide"
    }
   },
   "source": [
    "The <b id=\"big\">usual</b> Data Science workflow to success looks like this ...\n",
    "\n",
    "<center>![ds_workflow](./images/ds_workflow_1.jpg)</center>\n"
   ]
  },
  {
   "cell_type": "markdown",
   "metadata": {
    "slideshow": {
     "slide_type": "subslide"
    }
   },
   "source": [
    "... with this part being of <b id=\"big\">most interest</b> ...\n",
    "\n",
    "<center>![ds_workflow_focus_algo_results](./images/ds_workflow_ar.jpg)</center>"
   ]
  },
  {
   "cell_type": "markdown",
   "metadata": {
    "slideshow": {
     "slide_type": "subslide"
    }
   },
   "source": [
    "... however today we will be looking at the efforts and challenges at the <b id=\"big\">beginning</b> of the workflow ...\n",
    "\n",
    "<center>![ds_workflow_focus_data](./images/ds_workflow_data.jpg)</center>\n",
    "\n",
    "... which is often <b id=\"big\">overlooked and underestimated.</b>"
   ]
  },
  {
   "cell_type": "markdown",
   "metadata": {
    "slideshow": {
     "slide_type": "slide"
    }
   },
   "source": [
    "<b id=\"large\">Part 1</b>\n",
    "\n",
    "<b id=\"large\">The story behind all this</b>"
   ]
  },
  {
   "cell_type": "markdown",
   "metadata": {
    "slideshow": {
     "slide_type": "subslide"
    }
   },
   "source": [
    "<table>\n",
    "<tr id=\"twocolumn\">\n",
    "<td width=\"50%\" id=\"twocolumn\">\n",
    "<img src=\"./images/ROSEN_serving.png\">\n",
    "</td>\n",
    "<td id=\"twocolumn\">\n",
    "<p id=\"small\">ROSEN is a leading privately owned company that was established as a one-man business in 1981. Over\n",
    "the last 35 years, ROSEN has grown rapidly and is today a worldwide technology group that operates in\n",
    "more than 120 countries with over 2,700 employees.</p>\n",
    "\n",
    "<p id=\"small\">ROSEN’s products and services:</p>\n",
    "<ul>\n",
    "<li id=\"small\"> Inspection of critical industrial assets to ensure reliable operations of the highest standards and effectiveness\n",
    "<li id=\"small\"> Customized engineering consultancy providing efficient asset integrity management\n",
    "<li id=\"small\"> Production and supply of customized novel systems and products\n",
    "<li id=\"small\"> Market-driven, topical state-of-the-art research and development providing “added value” products and services\n",
    "</ul>\n",
    "</p>\n",
    "</td>\n",
    "</tr>\n",
    "</table>"
   ]
  },
  {
   "cell_type": "markdown",
   "metadata": {
    "slideshow": {
     "slide_type": "subslide"
    }
   },
   "source": [
    "\n",
    "* renown for <b id=\"big\">pipeline inspection</b> services for more than 30 years\n",
    "* service is based on devices traveling along the inside of the pipeline (<b id=\"big\">pigs</b>) collecting data from continuous measurements\n",
    "* we have always used <b id=\"big\">state of the art</b> measurement technology and resolution ...\n",
    "* ... resulting in <b id=\"big\">large datasets</b> to be processed ever since\n",
    "* today a single inspection can be longer than <b id=\"big\">1000 km</b> ...\n",
    "* ... and collecting <b id=\"big\">multiple TB</b> of data\n",
    "* this creates a large pool of data to work with"
   ]
  },
  {
   "cell_type": "markdown",
   "metadata": {
    "slideshow": {
     "slide_type": "slide"
    }
   },
   "source": [
    "Developing new <b id=\"big\">data centric</b> services and a variety of stakeholders with different mindsets regarding data demanded to <b id=\"big\">aggregate our storage solutions</b> over time."
   ]
  },
  {
   "cell_type": "markdown",
   "metadata": {
    "slideshow": {
     "slide_type": "subslide"
    }
   },
   "source": [
    "<center>![storage below the desk](./images/below_the_desk_storage.jpg)</center>\n",
    "\n",
    "So we developed from multiple <b id=\"big\">below the desk</b> hard disk arrays suitable for project internal needs ..."
   ]
  },
  {
   "cell_type": "markdown",
   "metadata": {
    "slideshow": {
     "slide_type": "subslide"
    }
   },
   "source": [
    "<center>![several servers based storage](./images/several_servers.jpg)</center>\n",
    "... to a number of <b id=\"big\">central servers</b> allowing first overall insights ..."
   ]
  },
  {
   "cell_type": "markdown",
   "metadata": {
    "slideshow": {
     "slide_type": "subslide"
    }
   },
   "source": [
    "<center>![isilon storage](./images/isilon_storage.jpg)</center>\n",
    "\n",
    "... to a single <b id=\"big\">Isilon</b> based storage solution with a single 1.5 PB filesystem keeping all the data in one location."
   ]
  },
  {
   "cell_type": "markdown",
   "metadata": {
    "slideshow": {
     "slide_type": "slide"
    }
   },
   "source": [
    "<b id=\"large\">However,</b>\n",
    "\n",
    "having all data in one place however did not solve all problems!"
   ]
  },
  {
   "cell_type": "markdown",
   "metadata": {
    "slideshow": {
     "slide_type": "subslide"
    }
   },
   "source": [
    "In the beginning there was great <b id=\"big\">satisfaction</b>, as the introduction of simple and meaningful directory structures when uploading the data to the Isilon, combined with its mere performance allowed rapid and <b id=\"big\">high performance</b> data access for the vast majority of users."
   ]
  },
  {
   "cell_type": "markdown",
   "metadata": {
    "slideshow": {
     "slide_type": "subslide"
    }
   },
   "source": [
    "But over the years, with\n",
    "\n",
    "* <b id=\"big\">new services</b> for combined evaluation forcing older datasets to stay available online\n",
    "* directory structures <b id=\"big\">changing</b>\n",
    "* data formats being <b id=\"big\">optimized</b>\n",
    "* <b id=\"big\">new</b> file formats introduced\n",
    "* people getting very <b id=\"big\">creative</b> when storing their data under pressure ;-)\n",
    "* <b id=\"big\">copies of copies</b> of the data being created, just to be safe\n",
    "\n",
    "... the initially completed convergence of data started to <b id=\"big\">diverge</b> again resulting in a huge pool of uncertain, underrated and unorganized information floating around, which is difficult to access and explore and reliably use."
   ]
  },
  {
   "cell_type": "markdown",
   "metadata": {
    "slideshow": {
     "slide_type": "subslide"
    }
   },
   "source": [
    "<b id=\"large\">A mess which we may just call</b>"
   ]
  },
  {
   "cell_type": "markdown",
   "metadata": {
    "slideshow": {
     "slide_type": "subslide"
    }
   },
   "source": [
    "<p id=\"huge\">Dark Data</b>"
   ]
  },
  {
   "cell_type": "markdown",
   "metadata": {
    "slideshow": {
     "slide_type": "slide"
    }
   },
   "source": [
    "<b id=\"big\">Dark data</b> is <b id=\"small\">according to Gartner</b> understood to be the <b id=\"big\">information assets</b> that organizations <b id=\"big\">collect</b>, process and store during regular business activities, but generally <b id=\"big\">fail to use</b> for other purposes.\n",
    "\n",
    "That's what summarised our situation as well and definitely <b id=\"big\">needed to be changed</b>.\n",
    "\n",
    "It's just way to <b id=\"big\">expensive</b> to preserve this state!"
   ]
  },
  {
   "cell_type": "markdown",
   "metadata": {
    "slideshow": {
     "slide_type": "subslide"
    }
   },
   "source": [
    "Our <b id=\"large\">lessons learned</b> revealed that restructuring the data is not a good idea. \n",
    "\n",
    "Divergence in structure usually has a <b id=\"big\">[good]</b> reason."
   ]
  },
  {
   "cell_type": "markdown",
   "metadata": {
    "slideshow": {
     "slide_type": "subslide"
    }
   },
   "source": [
    "<b id=\"large\">The better idea</b>\n",
    "\n",
    "is to offer <b id=\"big\">smart services</b> for finding and retrieving the data.\n",
    "\n",
    "This will significantly reduce the costs and efforts at the initial stages of new data centric projects.\n",
    "\n",
    "And this is what this talk is all about."
   ]
  },
  {
   "cell_type": "markdown",
   "metadata": {
    "slideshow": {
     "slide_type": "subslide"
    }
   },
   "source": [
    "We have planned a <b id=\"big\">variety of interacting services</b>, such as \n",
    "\n",
    "* a <b id=\"big\">filesystem scanner</b>\n",
    "* a database to store a smart <b id=\"big\">table of contents</b>\n",
    "* a file <b id=\"big\">tagging</b> service \n",
    "* and a <b id=\"big\">data provider</b> and display with a transcoding engine to serve the different needs of our users and to overcome the multiple historic data structures and file formats. \n",
    "\n",
    "This talk will however focus on the journey to create the initial component of the service stack, which is an  efficient ..."
   ]
  },
  {
   "cell_type": "markdown",
   "metadata": {
    "slideshow": {
     "slide_type": "subslide"
    }
   },
   "source": [
    "<b id=\"large\">distributed filesystem scanner</b>"
   ]
  },
  {
   "cell_type": "markdown",
   "metadata": {
    "slideshow": {
     "slide_type": "slide"
    }
   },
   "source": [
    "<b id=\"large\">Part 2</b>\n",
    "\n",
    "<b id=\"large\">Implementations</b>"
   ]
  },
  {
   "cell_type": "markdown",
   "metadata": {
    "slideshow": {
     "slide_type": "slide"
    }
   },
   "source": [
    "<b id=\"large\">Keeping up with the tradition</b>"
   ]
  },
  {
   "cell_type": "markdown",
   "metadata": {
    "slideshow": {
     "slide_type": "subslide"
    }
   },
   "source": [
    "Start off very simple (and <b id=\"big\">naive</b>): Recursive scan of an entry directory.\n",
    "\n",
    "The most straightforward approach un Unix based systems is to use `find` for this.\n",
    "\n",
    "E.g. \n",
    "\n",
    "`find /tmp -type f`\n",
    "\n",
    "will generate a list of paths of all files in the `/tmp` directory of the filesystem. "
   ]
  },
  {
   "cell_type": "markdown",
   "metadata": {
    "slideshow": {
     "slide_type": "subslide"
    }
   },
   "source": [
    "Let's emulate this in Python using `os.walk`.\n",
    "\n",
    "Based on the code from the [official Python Documentation](https://docs.python.org/3/library/os.html#os.walk) we end up with something like this."
   ]
  },
  {
   "cell_type": "code",
   "execution_count": 2,
   "metadata": {
    "slideshow": {
     "slide_type": "subslide"
    }
   },
   "outputs": [
    {
     "name": "stdout",
     "output_type": "stream",
     "text": [
      "['/media/linfile1/groups/Big_Data_Lab/development/jnie/hadoop_based_hdfs_read_benchmark2-results.dat', '/media/linfile1/groups/Big_Data_Lab/development/jnie/parallel write tests.ipynb', '/media/linfile1/groups/Big_Data_Lab/development/jnie/hadoop_based_hdfs_read_benchmark2.py', '/media/linfile1/groups/Big_Data_Lab/development/jnie/hadoop_based_hdfs_read_benchmark2.errors', '/media/linfile1/groups/Big_Data_Lab/development/jnie/Untitled1.ipynb']\n",
      "58200 13.477147340774536\n"
     ]
    }
   ],
   "source": [
    "import os\n",
    "import time\n",
    "\n",
    "entry_dir=\"/media/linfile1/groups/Big_Data_Lab/development/jnie/\"\n",
    "\n",
    "all_files=[]\n",
    "\n",
    "tic=time.time()\n",
    "for root, dirs, files in os.walk(entry_dir):\n",
    "    for _file in files:\n",
    "        all_files.append(os.path.join(root, _file))\n",
    "toc=time.time()\n",
    "\n",
    "print(all_files[:5])\n",
    "print(len(all_files), toc-tic)"
   ]
  },
  {
   "cell_type": "markdown",
   "metadata": {
    "slideshow": {
     "slide_type": "subslide"
    }
   },
   "source": [
    "But this creates just a <b id=\"big\">list of files</b>.\n",
    "\n",
    "And it's <b id=\"big\">costly</b> to generate (remember the 1.5 PB) and therefore not very efficient\n",
    "\n",
    "You can of course save the results and base on these for further analysis.\n",
    "\n",
    "But it has <b id=\"big\">not enough details</b> to serve everyones needs anyways."
   ]
  },
  {
   "cell_type": "markdown",
   "metadata": {
    "slideshow": {
     "slide_type": "subslide"
    }
   },
   "source": [
    "So we ended up in creating an implementation which included the following details for each file:\n",
    "\n",
    "* base <b id=\"big\">directory</b> of the file\n",
    "* the <b id=\"big\">filename</b> itself\n",
    "* <b id=\"big\">type</b> of file by using the file extension/suffix in lowercase\n",
    "* <b id=\"big\">size</b> of the file in bytes\n",
    "* <b id=\"big\">ownership</b> of the file using uid and gid\n",
    "* several <b id=\"big\">timestamps</b> (creation time, modification time and last access)\n",
    "* the date and time the file has been <b id=\"big\">last seen</b> in the scanning process <b id=\"small\">(which is not taken into account in the following)</b>"
   ]
  },
  {
   "cell_type": "markdown",
   "metadata": {
    "slideshow": {
     "slide_type": "subslide"
    }
   },
   "source": [
    "These <b id=\"big\">additional properties</b> can be retrieved by doing corresponding `os.stat` calls on each file.\n",
    "\n",
    "To <b id=\"big\">ease further usage</b> the time properties are converted to datetime objects.\n",
    "\n",
    "Furthermore the stat calls can help to <b id=\"big\">narrow down</b> the scan results dropping all entries not referring to real files, such as links and device entries, should they exist, keeping just the entries that we're out for.\n",
    "\n",
    "Let's create a <b id=\"big\">little helper</b> function to do all the work."
   ]
  },
  {
   "cell_type": "code",
   "execution_count": 6,
   "metadata": {
    "collapsed": true,
    "slideshow": {
     "slide_type": "subslide"
    }
   },
   "outputs": [],
   "source": [
    "import stat\n",
    "import pendulum\n",
    "\n",
    "def get_file_info(path):\n",
    "    path = os.path.abspath(path)\n",
    "    \n",
    "    dirname, filename = os.path.split(path)\n",
    "    filetype = os.path.splitext(filename)[1][1:].lower()\n",
    "    \n",
    "    stat=os.stat(path)\n",
    "    \n",
    "    size = stat.st_size\n",
    "    owner = stat.st_uid\n",
    "    group = stat.st_gid\n",
    "    ctime = pendulum.from_timestamp(stat.st_ctime)\n",
    "    mtime = pendulum.from_timestamp(stat.st_mtime)\n",
    "    atime = pendulum.from_timestamp(stat.st_atime)\n",
    "    \n",
    "    return (dirname, filename, filetype, size, owner, group, ctime, mtime, atime)"
   ]
  },
  {
   "cell_type": "code",
   "execution_count": 3,
   "metadata": {
    "slideshow": {
     "slide_type": "subslide"
    }
   },
   "outputs": [
    {
     "name": "stdout",
     "output_type": "stream",
     "text": [
      "1000 1209 1176\n",
      "2000 2029 1517\n",
      "3000 3411 31376\n",
      "4000 4029 56159\n",
      "5000 5017 57548\n",
      "57916 39.880743741989136\n"
     ]
    }
   ],
   "source": [
    "all_files=[]\n",
    "number_of_dirs=0\n",
    "number_of_files=0\n",
    "\n",
    "tic=time.time()\n",
    "\n",
    "iteration=0\n",
    "for root, dirs, files in os.walk(entry_dir):\n",
    "    iteration+=1\n",
    "    number_of_dirs+=len(dirs)\n",
    "    \n",
    "    for _file in files:\n",
    "        path=os.path.join(root, _file)\n",
    "        if not os.path.isfile(path):\n",
    "            continue\n",
    "        if os.path.islink(path):\n",
    "            continue\n",
    "        number_of_files+=1\n",
    "        \n",
    "        file_info=get_file_info(path)\n",
    "        all_files.append(file_info)\n",
    "        \n",
    "    if (iteration % 1000)==0:\n",
    "        print(iteration, number_of_dirs, number_of_files)\n",
    "\n",
    "toc=time.time()\n",
    "print(len(all_files), toc-tic)"
   ]
  },
  {
   "cell_type": "markdown",
   "metadata": {
    "slideshow": {
     "slide_type": "subslide"
    }
   },
   "source": [
    "This will generate a neat list of entries with all the desired details, which will fit nicely into a <b id=\"big\">pandas Dataframe</b> for further analysis."
   ]
  },
  {
   "cell_type": "code",
   "execution_count": 4,
   "metadata": {
    "slideshow": {
     "slide_type": "-"
    }
   },
   "outputs": [
    {
     "data": {
      "text/html": [
       "<div>\n",
       "<table border=\"1\" class=\"dataframe\">\n",
       "  <thead>\n",
       "    <tr style=\"text-align: right;\">\n",
       "      <th></th>\n",
       "      <th>dirname</th>\n",
       "      <th>filename</th>\n",
       "      <th>filetype</th>\n",
       "      <th>owner</th>\n",
       "      <th>size</th>\n",
       "      <th>ctime</th>\n",
       "      <th>mtime</th>\n",
       "      <th>atime</th>\n",
       "    </tr>\n",
       "  </thead>\n",
       "  <tbody>\n",
       "    <tr>\n",
       "      <th>0</th>\n",
       "      <td>/media/linfile1/groups/Big_Data_Lab/developmen...</td>\n",
       "      <td>hadoop_based_hdfs_read_benchmark2-results.dat</td>\n",
       "      <td>dat</td>\n",
       "      <td>2805</td>\n",
       "      <td>49</td>\n",
       "      <td>2015-07-16 07:03:19.358181+00:00</td>\n",
       "      <td>2015-07-16 07:03:19.333891+00:00</td>\n",
       "      <td>2015-07-16 07:03:19.329187+00:00</td>\n",
       "    </tr>\n",
       "    <tr>\n",
       "      <th>1</th>\n",
       "      <td>/media/linfile1/groups/Big_Data_Lab/developmen...</td>\n",
       "      <td>parallel write tests.ipynb</td>\n",
       "      <td>ipynb</td>\n",
       "      <td>2805</td>\n",
       "      <td>17738</td>\n",
       "      <td>2015-07-13 08:58:24.876960+00:00</td>\n",
       "      <td>2015-07-13 08:58:24.850228+00:00</td>\n",
       "      <td>2016-10-17 14:32:01.180144+00:00</td>\n",
       "    </tr>\n",
       "    <tr>\n",
       "      <th>2</th>\n",
       "      <td>/media/linfile1/groups/Big_Data_Lab/developmen...</td>\n",
       "      <td>hadoop_based_hdfs_read_benchmark2.py</td>\n",
       "      <td>py</td>\n",
       "      <td>2805</td>\n",
       "      <td>1676</td>\n",
       "      <td>2015-07-20 11:48:22.512641+00:00</td>\n",
       "      <td>2015-07-20 11:48:22.504385+00:00</td>\n",
       "      <td>2015-07-28 07:16:39.278389+00:00</td>\n",
       "    </tr>\n",
       "    <tr>\n",
       "      <th>3</th>\n",
       "      <td>/media/linfile1/groups/Big_Data_Lab/developmen...</td>\n",
       "      <td>hadoop_based_hdfs_read_benchmark2.errors</td>\n",
       "      <td>errors</td>\n",
       "      <td>2805</td>\n",
       "      <td>14299</td>\n",
       "      <td>2015-07-14 11:45:31.289014+00:00</td>\n",
       "      <td>2015-07-14 11:45:31.289014+00:00</td>\n",
       "      <td>2016-03-03 09:48:27.513328+00:00</td>\n",
       "    </tr>\n",
       "    <tr>\n",
       "      <th>4</th>\n",
       "      <td>/media/linfile1/groups/Big_Data_Lab/developmen...</td>\n",
       "      <td>Untitled1.ipynb</td>\n",
       "      <td>ipynb</td>\n",
       "      <td>2805</td>\n",
       "      <td>16262</td>\n",
       "      <td>2015-07-16 07:12:49.813747+00:00</td>\n",
       "      <td>2015-07-16 07:12:49.798924+00:00</td>\n",
       "      <td>2015-07-20 07:15:56.302525+00:00</td>\n",
       "    </tr>\n",
       "  </tbody>\n",
       "</table>\n",
       "</div>"
      ],
      "text/plain": [
       "                                             dirname  \\\n",
       "0  /media/linfile1/groups/Big_Data_Lab/developmen...   \n",
       "1  /media/linfile1/groups/Big_Data_Lab/developmen...   \n",
       "2  /media/linfile1/groups/Big_Data_Lab/developmen...   \n",
       "3  /media/linfile1/groups/Big_Data_Lab/developmen...   \n",
       "4  /media/linfile1/groups/Big_Data_Lab/developmen...   \n",
       "\n",
       "                                        filename filetype  owner   size  \\\n",
       "0  hadoop_based_hdfs_read_benchmark2-results.dat      dat   2805     49   \n",
       "1                     parallel write tests.ipynb    ipynb   2805  17738   \n",
       "2           hadoop_based_hdfs_read_benchmark2.py       py   2805   1676   \n",
       "3       hadoop_based_hdfs_read_benchmark2.errors   errors   2805  14299   \n",
       "4                                Untitled1.ipynb    ipynb   2805  16262   \n",
       "\n",
       "                             ctime                            mtime  \\\n",
       "0 2015-07-16 07:03:19.358181+00:00 2015-07-16 07:03:19.333891+00:00   \n",
       "1 2015-07-13 08:58:24.876960+00:00 2015-07-13 08:58:24.850228+00:00   \n",
       "2 2015-07-20 11:48:22.512641+00:00 2015-07-20 11:48:22.504385+00:00   \n",
       "3 2015-07-14 11:45:31.289014+00:00 2015-07-14 11:45:31.289014+00:00   \n",
       "4 2015-07-16 07:12:49.813747+00:00 2015-07-16 07:12:49.798924+00:00   \n",
       "\n",
       "                             atime  \n",
       "0 2015-07-16 07:03:19.329187+00:00  \n",
       "1 2016-10-17 14:32:01.180144+00:00  \n",
       "2 2015-07-28 07:16:39.278389+00:00  \n",
       "3 2016-03-03 09:48:27.513328+00:00  \n",
       "4 2015-07-20 07:15:56.302525+00:00  "
      ]
     },
     "execution_count": 4,
     "metadata": {},
     "output_type": "execute_result"
    }
   ],
   "source": [
    "import pandas as pd\n",
    "df=pd.DataFrame(all_files, columns=[\"dirname\", \"filename\", \"filetype\", \"owner\", \"size\", \"ctime\", \"mtime\", \"atime\"])\n",
    "df.head()"
   ]
  },
  {
   "cell_type": "markdown",
   "metadata": {
    "slideshow": {
     "slide_type": "subslide"
    }
   },
   "source": [
    "With the <b id=\"big\">results</b> organized like so, you can already retrieve some good insights from the numbers, such as \n",
    "\n",
    "* the number of files and directories\n",
    "* the file count per file type\n",
    "* how many file owners there are\n",
    "* and how many files they have occupying what amount of the storage\n",
    "* the overall size of the pool of data scanned\n",
    "* the overall size per file type\n",
    "* and more\n",
    "\n",
    "We will leave a more detailed view on this as a <b id=\"big\">bonus feature</b> at the end of the talk."
   ]
  },
  {
   "cell_type": "markdown",
   "metadata": {
    "slideshow": {
     "slide_type": "subslide"
    }
   },
   "source": [
    "But it's also interesting to <b id=\"big\">keep track</b> of how long each directory scan performed took.\n",
    "\n",
    "If we had benchmarked the scan in <b id=\"big\">more detail</b>, storing the number of entries and the necessary time to perform each scan as tuples in in a list called `stat`, the results would look like the following."
   ]
  },
  {
   "cell_type": "code",
   "execution_count": 5,
   "metadata": {
    "slideshow": {
     "slide_type": "subslide"
    }
   },
   "outputs": [
    {
     "data": {
      "application/javascript": [
       "/* Put everything inside the global mpl namespace */\n",
       "window.mpl = {};\n",
       "\n",
       "\n",
       "mpl.get_websocket_type = function() {\n",
       "    if (typeof(WebSocket) !== 'undefined') {\n",
       "        return WebSocket;\n",
       "    } else if (typeof(MozWebSocket) !== 'undefined') {\n",
       "        return MozWebSocket;\n",
       "    } else {\n",
       "        alert('Your browser does not have WebSocket support.' +\n",
       "              'Please try Chrome, Safari or Firefox ≥ 6. ' +\n",
       "              'Firefox 4 and 5 are also supported but you ' +\n",
       "              'have to enable WebSockets in about:config.');\n",
       "    };\n",
       "}\n",
       "\n",
       "mpl.figure = function(figure_id, websocket, ondownload, parent_element) {\n",
       "    this.id = figure_id;\n",
       "\n",
       "    this.ws = websocket;\n",
       "\n",
       "    this.supports_binary = (this.ws.binaryType != undefined);\n",
       "\n",
       "    if (!this.supports_binary) {\n",
       "        var warnings = document.getElementById(\"mpl-warnings\");\n",
       "        if (warnings) {\n",
       "            warnings.style.display = 'block';\n",
       "            warnings.textContent = (\n",
       "                \"This browser does not support binary websocket messages. \" +\n",
       "                    \"Performance may be slow.\");\n",
       "        }\n",
       "    }\n",
       "\n",
       "    this.imageObj = new Image();\n",
       "\n",
       "    this.context = undefined;\n",
       "    this.message = undefined;\n",
       "    this.canvas = undefined;\n",
       "    this.rubberband_canvas = undefined;\n",
       "    this.rubberband_context = undefined;\n",
       "    this.format_dropdown = undefined;\n",
       "\n",
       "    this.image_mode = 'full';\n",
       "\n",
       "    this.root = $('<div/>');\n",
       "    this._root_extra_style(this.root)\n",
       "    this.root.attr('style', 'display: inline-block');\n",
       "\n",
       "    $(parent_element).append(this.root);\n",
       "\n",
       "    this._init_header(this);\n",
       "    this._init_canvas(this);\n",
       "    this._init_toolbar(this);\n",
       "\n",
       "    var fig = this;\n",
       "\n",
       "    this.waiting = false;\n",
       "\n",
       "    this.ws.onopen =  function () {\n",
       "            fig.send_message(\"supports_binary\", {value: fig.supports_binary});\n",
       "            fig.send_message(\"send_image_mode\", {});\n",
       "            if (mpl.ratio != 1) {\n",
       "                fig.send_message(\"set_dpi_ratio\", {'dpi_ratio': mpl.ratio});\n",
       "            }\n",
       "            fig.send_message(\"refresh\", {});\n",
       "        }\n",
       "\n",
       "    this.imageObj.onload = function() {\n",
       "            if (fig.image_mode == 'full') {\n",
       "                // Full images could contain transparency (where diff images\n",
       "                // almost always do), so we need to clear the canvas so that\n",
       "                // there is no ghosting.\n",
       "                fig.context.clearRect(0, 0, fig.canvas.width, fig.canvas.height);\n",
       "            }\n",
       "            fig.context.drawImage(fig.imageObj, 0, 0);\n",
       "        };\n",
       "\n",
       "    this.imageObj.onunload = function() {\n",
       "        this.ws.close();\n",
       "    }\n",
       "\n",
       "    this.ws.onmessage = this._make_on_message_function(this);\n",
       "\n",
       "    this.ondownload = ondownload;\n",
       "}\n",
       "\n",
       "mpl.figure.prototype._init_header = function() {\n",
       "    var titlebar = $(\n",
       "        '<div class=\"ui-dialog-titlebar ui-widget-header ui-corner-all ' +\n",
       "        'ui-helper-clearfix\"/>');\n",
       "    var titletext = $(\n",
       "        '<div class=\"ui-dialog-title\" style=\"width: 100%; ' +\n",
       "        'text-align: center; padding: 3px;\"/>');\n",
       "    titlebar.append(titletext)\n",
       "    this.root.append(titlebar);\n",
       "    this.header = titletext[0];\n",
       "}\n",
       "\n",
       "\n",
       "\n",
       "mpl.figure.prototype._canvas_extra_style = function(canvas_div) {\n",
       "\n",
       "}\n",
       "\n",
       "\n",
       "mpl.figure.prototype._root_extra_style = function(canvas_div) {\n",
       "\n",
       "}\n",
       "\n",
       "mpl.figure.prototype._init_canvas = function() {\n",
       "    var fig = this;\n",
       "\n",
       "    var canvas_div = $('<div/>');\n",
       "\n",
       "    canvas_div.attr('style', 'position: relative; clear: both; outline: 0');\n",
       "\n",
       "    function canvas_keyboard_event(event) {\n",
       "        return fig.key_event(event, event['data']);\n",
       "    }\n",
       "\n",
       "    canvas_div.keydown('key_press', canvas_keyboard_event);\n",
       "    canvas_div.keyup('key_release', canvas_keyboard_event);\n",
       "    this.canvas_div = canvas_div\n",
       "    this._canvas_extra_style(canvas_div)\n",
       "    this.root.append(canvas_div);\n",
       "\n",
       "    var canvas = $('<canvas/>');\n",
       "    canvas.addClass('mpl-canvas');\n",
       "    canvas.attr('style', \"left: 0; top: 0; z-index: 0; outline: 0\")\n",
       "\n",
       "    this.canvas = canvas[0];\n",
       "    this.context = canvas[0].getContext(\"2d\");\n",
       "\n",
       "    var backingStore = this.context.backingStorePixelRatio ||\n",
       "\tthis.context.webkitBackingStorePixelRatio ||\n",
       "\tthis.context.mozBackingStorePixelRatio ||\n",
       "\tthis.context.msBackingStorePixelRatio ||\n",
       "\tthis.context.oBackingStorePixelRatio ||\n",
       "\tthis.context.backingStorePixelRatio || 1;\n",
       "\n",
       "    mpl.ratio = (window.devicePixelRatio || 1) / backingStore;\n",
       "\n",
       "    var rubberband = $('<canvas/>');\n",
       "    rubberband.attr('style', \"position: absolute; left: 0; top: 0; z-index: 1;\")\n",
       "\n",
       "    var pass_mouse_events = true;\n",
       "\n",
       "    canvas_div.resizable({\n",
       "        start: function(event, ui) {\n",
       "            pass_mouse_events = false;\n",
       "        },\n",
       "        resize: function(event, ui) {\n",
       "            fig.request_resize(ui.size.width, ui.size.height);\n",
       "        },\n",
       "        stop: function(event, ui) {\n",
       "            pass_mouse_events = true;\n",
       "            fig.request_resize(ui.size.width, ui.size.height);\n",
       "        },\n",
       "    });\n",
       "\n",
       "    function mouse_event_fn(event) {\n",
       "        if (pass_mouse_events)\n",
       "            return fig.mouse_event(event, event['data']);\n",
       "    }\n",
       "\n",
       "    rubberband.mousedown('button_press', mouse_event_fn);\n",
       "    rubberband.mouseup('button_release', mouse_event_fn);\n",
       "    // Throttle sequential mouse events to 1 every 20ms.\n",
       "    rubberband.mousemove('motion_notify', mouse_event_fn);\n",
       "\n",
       "    rubberband.mouseenter('figure_enter', mouse_event_fn);\n",
       "    rubberband.mouseleave('figure_leave', mouse_event_fn);\n",
       "\n",
       "    canvas_div.on(\"wheel\", function (event) {\n",
       "        event = event.originalEvent;\n",
       "        event['data'] = 'scroll'\n",
       "        if (event.deltaY < 0) {\n",
       "            event.step = 1;\n",
       "        } else {\n",
       "            event.step = -1;\n",
       "        }\n",
       "        mouse_event_fn(event);\n",
       "    });\n",
       "\n",
       "    canvas_div.append(canvas);\n",
       "    canvas_div.append(rubberband);\n",
       "\n",
       "    this.rubberband = rubberband;\n",
       "    this.rubberband_canvas = rubberband[0];\n",
       "    this.rubberband_context = rubberband[0].getContext(\"2d\");\n",
       "    this.rubberband_context.strokeStyle = \"#000000\";\n",
       "\n",
       "    this._resize_canvas = function(width, height) {\n",
       "        // Keep the size of the canvas, canvas container, and rubber band\n",
       "        // canvas in synch.\n",
       "        canvas_div.css('width', width)\n",
       "        canvas_div.css('height', height)\n",
       "\n",
       "        canvas.attr('width', width * mpl.ratio);\n",
       "        canvas.attr('height', height * mpl.ratio);\n",
       "        canvas.attr('style', 'width: ' + width + 'px; height: ' + height + 'px;');\n",
       "\n",
       "        rubberband.attr('width', width);\n",
       "        rubberband.attr('height', height);\n",
       "    }\n",
       "\n",
       "    // Set the figure to an initial 600x600px, this will subsequently be updated\n",
       "    // upon first draw.\n",
       "    this._resize_canvas(600, 600);\n",
       "\n",
       "    // Disable right mouse context menu.\n",
       "    $(this.rubberband_canvas).bind(\"contextmenu\",function(e){\n",
       "        return false;\n",
       "    });\n",
       "\n",
       "    function set_focus () {\n",
       "        canvas.focus();\n",
       "        canvas_div.focus();\n",
       "    }\n",
       "\n",
       "    window.setTimeout(set_focus, 100);\n",
       "}\n",
       "\n",
       "mpl.figure.prototype._init_toolbar = function() {\n",
       "    var fig = this;\n",
       "\n",
       "    var nav_element = $('<div/>')\n",
       "    nav_element.attr('style', 'width: 100%');\n",
       "    this.root.append(nav_element);\n",
       "\n",
       "    // Define a callback function for later on.\n",
       "    function toolbar_event(event) {\n",
       "        return fig.toolbar_button_onclick(event['data']);\n",
       "    }\n",
       "    function toolbar_mouse_event(event) {\n",
       "        return fig.toolbar_button_onmouseover(event['data']);\n",
       "    }\n",
       "\n",
       "    for(var toolbar_ind in mpl.toolbar_items) {\n",
       "        var name = mpl.toolbar_items[toolbar_ind][0];\n",
       "        var tooltip = mpl.toolbar_items[toolbar_ind][1];\n",
       "        var image = mpl.toolbar_items[toolbar_ind][2];\n",
       "        var method_name = mpl.toolbar_items[toolbar_ind][3];\n",
       "\n",
       "        if (!name) {\n",
       "            // put a spacer in here.\n",
       "            continue;\n",
       "        }\n",
       "        var button = $('<button/>');\n",
       "        button.addClass('ui-button ui-widget ui-state-default ui-corner-all ' +\n",
       "                        'ui-button-icon-only');\n",
       "        button.attr('role', 'button');\n",
       "        button.attr('aria-disabled', 'false');\n",
       "        button.click(method_name, toolbar_event);\n",
       "        button.mouseover(tooltip, toolbar_mouse_event);\n",
       "\n",
       "        var icon_img = $('<span/>');\n",
       "        icon_img.addClass('ui-button-icon-primary ui-icon');\n",
       "        icon_img.addClass(image);\n",
       "        icon_img.addClass('ui-corner-all');\n",
       "\n",
       "        var tooltip_span = $('<span/>');\n",
       "        tooltip_span.addClass('ui-button-text');\n",
       "        tooltip_span.html(tooltip);\n",
       "\n",
       "        button.append(icon_img);\n",
       "        button.append(tooltip_span);\n",
       "\n",
       "        nav_element.append(button);\n",
       "    }\n",
       "\n",
       "    var fmt_picker_span = $('<span/>');\n",
       "\n",
       "    var fmt_picker = $('<select/>');\n",
       "    fmt_picker.addClass('mpl-toolbar-option ui-widget ui-widget-content');\n",
       "    fmt_picker_span.append(fmt_picker);\n",
       "    nav_element.append(fmt_picker_span);\n",
       "    this.format_dropdown = fmt_picker[0];\n",
       "\n",
       "    for (var ind in mpl.extensions) {\n",
       "        var fmt = mpl.extensions[ind];\n",
       "        var option = $(\n",
       "            '<option/>', {selected: fmt === mpl.default_extension}).html(fmt);\n",
       "        fmt_picker.append(option)\n",
       "    }\n",
       "\n",
       "    // Add hover states to the ui-buttons\n",
       "    $( \".ui-button\" ).hover(\n",
       "        function() { $(this).addClass(\"ui-state-hover\");},\n",
       "        function() { $(this).removeClass(\"ui-state-hover\");}\n",
       "    );\n",
       "\n",
       "    var status_bar = $('<span class=\"mpl-message\"/>');\n",
       "    nav_element.append(status_bar);\n",
       "    this.message = status_bar[0];\n",
       "}\n",
       "\n",
       "mpl.figure.prototype.request_resize = function(x_pixels, y_pixels) {\n",
       "    // Request matplotlib to resize the figure. Matplotlib will then trigger a resize in the client,\n",
       "    // which will in turn request a refresh of the image.\n",
       "    this.send_message('resize', {'width': x_pixels, 'height': y_pixels});\n",
       "}\n",
       "\n",
       "mpl.figure.prototype.send_message = function(type, properties) {\n",
       "    properties['type'] = type;\n",
       "    properties['figure_id'] = this.id;\n",
       "    this.ws.send(JSON.stringify(properties));\n",
       "}\n",
       "\n",
       "mpl.figure.prototype.send_draw_message = function() {\n",
       "    if (!this.waiting) {\n",
       "        this.waiting = true;\n",
       "        this.ws.send(JSON.stringify({type: \"draw\", figure_id: this.id}));\n",
       "    }\n",
       "}\n",
       "\n",
       "\n",
       "mpl.figure.prototype.handle_save = function(fig, msg) {\n",
       "    var format_dropdown = fig.format_dropdown;\n",
       "    var format = format_dropdown.options[format_dropdown.selectedIndex].value;\n",
       "    fig.ondownload(fig, format);\n",
       "}\n",
       "\n",
       "\n",
       "mpl.figure.prototype.handle_resize = function(fig, msg) {\n",
       "    var size = msg['size'];\n",
       "    if (size[0] != fig.canvas.width || size[1] != fig.canvas.height) {\n",
       "        fig._resize_canvas(size[0], size[1]);\n",
       "        fig.send_message(\"refresh\", {});\n",
       "    };\n",
       "}\n",
       "\n",
       "mpl.figure.prototype.handle_rubberband = function(fig, msg) {\n",
       "    var x0 = msg['x0'] / mpl.ratio;\n",
       "    var y0 = (fig.canvas.height - msg['y0']) / mpl.ratio;\n",
       "    var x1 = msg['x1'] / mpl.ratio;\n",
       "    var y1 = (fig.canvas.height - msg['y1']) / mpl.ratio;\n",
       "    x0 = Math.floor(x0) + 0.5;\n",
       "    y0 = Math.floor(y0) + 0.5;\n",
       "    x1 = Math.floor(x1) + 0.5;\n",
       "    y1 = Math.floor(y1) + 0.5;\n",
       "    var min_x = Math.min(x0, x1);\n",
       "    var min_y = Math.min(y0, y1);\n",
       "    var width = Math.abs(x1 - x0);\n",
       "    var height = Math.abs(y1 - y0);\n",
       "\n",
       "    fig.rubberband_context.clearRect(\n",
       "        0, 0, fig.canvas.width, fig.canvas.height);\n",
       "\n",
       "    fig.rubberband_context.strokeRect(min_x, min_y, width, height);\n",
       "}\n",
       "\n",
       "mpl.figure.prototype.handle_figure_label = function(fig, msg) {\n",
       "    // Updates the figure title.\n",
       "    fig.header.textContent = msg['label'];\n",
       "}\n",
       "\n",
       "mpl.figure.prototype.handle_cursor = function(fig, msg) {\n",
       "    var cursor = msg['cursor'];\n",
       "    switch(cursor)\n",
       "    {\n",
       "    case 0:\n",
       "        cursor = 'pointer';\n",
       "        break;\n",
       "    case 1:\n",
       "        cursor = 'default';\n",
       "        break;\n",
       "    case 2:\n",
       "        cursor = 'crosshair';\n",
       "        break;\n",
       "    case 3:\n",
       "        cursor = 'move';\n",
       "        break;\n",
       "    }\n",
       "    fig.rubberband_canvas.style.cursor = cursor;\n",
       "}\n",
       "\n",
       "mpl.figure.prototype.handle_message = function(fig, msg) {\n",
       "    fig.message.textContent = msg['message'];\n",
       "}\n",
       "\n",
       "mpl.figure.prototype.handle_draw = function(fig, msg) {\n",
       "    // Request the server to send over a new figure.\n",
       "    fig.send_draw_message();\n",
       "}\n",
       "\n",
       "mpl.figure.prototype.handle_image_mode = function(fig, msg) {\n",
       "    fig.image_mode = msg['mode'];\n",
       "}\n",
       "\n",
       "mpl.figure.prototype.updated_canvas_event = function() {\n",
       "    // Called whenever the canvas gets updated.\n",
       "    this.send_message(\"ack\", {});\n",
       "}\n",
       "\n",
       "// A function to construct a web socket function for onmessage handling.\n",
       "// Called in the figure constructor.\n",
       "mpl.figure.prototype._make_on_message_function = function(fig) {\n",
       "    return function socket_on_message(evt) {\n",
       "        if (evt.data instanceof Blob) {\n",
       "            /* FIXME: We get \"Resource interpreted as Image but\n",
       "             * transferred with MIME type text/plain:\" errors on\n",
       "             * Chrome.  But how to set the MIME type?  It doesn't seem\n",
       "             * to be part of the websocket stream */\n",
       "            evt.data.type = \"image/png\";\n",
       "\n",
       "            /* Free the memory for the previous frames */\n",
       "            if (fig.imageObj.src) {\n",
       "                (window.URL || window.webkitURL).revokeObjectURL(\n",
       "                    fig.imageObj.src);\n",
       "            }\n",
       "\n",
       "            fig.imageObj.src = (window.URL || window.webkitURL).createObjectURL(\n",
       "                evt.data);\n",
       "            fig.updated_canvas_event();\n",
       "            fig.waiting = false;\n",
       "            return;\n",
       "        }\n",
       "        else if (typeof evt.data === 'string' && evt.data.slice(0, 21) == \"data:image/png;base64\") {\n",
       "            fig.imageObj.src = evt.data;\n",
       "            fig.updated_canvas_event();\n",
       "            fig.waiting = false;\n",
       "            return;\n",
       "        }\n",
       "\n",
       "        var msg = JSON.parse(evt.data);\n",
       "        var msg_type = msg['type'];\n",
       "\n",
       "        // Call the  \"handle_{type}\" callback, which takes\n",
       "        // the figure and JSON message as its only arguments.\n",
       "        try {\n",
       "            var callback = fig[\"handle_\" + msg_type];\n",
       "        } catch (e) {\n",
       "            console.log(\"No handler for the '\" + msg_type + \"' message type: \", msg);\n",
       "            return;\n",
       "        }\n",
       "\n",
       "        if (callback) {\n",
       "            try {\n",
       "                // console.log(\"Handling '\" + msg_type + \"' message: \", msg);\n",
       "                callback(fig, msg);\n",
       "            } catch (e) {\n",
       "                console.log(\"Exception inside the 'handler_\" + msg_type + \"' callback:\", e, e.stack, msg);\n",
       "            }\n",
       "        }\n",
       "    };\n",
       "}\n",
       "\n",
       "// from http://stackoverflow.com/questions/1114465/getting-mouse-location-in-canvas\n",
       "mpl.findpos = function(e) {\n",
       "    //this section is from http://www.quirksmode.org/js/events_properties.html\n",
       "    var targ;\n",
       "    if (!e)\n",
       "        e = window.event;\n",
       "    if (e.target)\n",
       "        targ = e.target;\n",
       "    else if (e.srcElement)\n",
       "        targ = e.srcElement;\n",
       "    if (targ.nodeType == 3) // defeat Safari bug\n",
       "        targ = targ.parentNode;\n",
       "\n",
       "    // jQuery normalizes the pageX and pageY\n",
       "    // pageX,Y are the mouse positions relative to the document\n",
       "    // offset() returns the position of the element relative to the document\n",
       "    var x = e.pageX - $(targ).offset().left;\n",
       "    var y = e.pageY - $(targ).offset().top;\n",
       "\n",
       "    return {\"x\": x, \"y\": y};\n",
       "};\n",
       "\n",
       "/*\n",
       " * return a copy of an object with only non-object keys\n",
       " * we need this to avoid circular references\n",
       " * http://stackoverflow.com/a/24161582/3208463\n",
       " */\n",
       "function simpleKeys (original) {\n",
       "  return Object.keys(original).reduce(function (obj, key) {\n",
       "    if (typeof original[key] !== 'object')\n",
       "        obj[key] = original[key]\n",
       "    return obj;\n",
       "  }, {});\n",
       "}\n",
       "\n",
       "mpl.figure.prototype.mouse_event = function(event, name) {\n",
       "    var canvas_pos = mpl.findpos(event)\n",
       "\n",
       "    if (name === 'button_press')\n",
       "    {\n",
       "        this.canvas.focus();\n",
       "        this.canvas_div.focus();\n",
       "    }\n",
       "\n",
       "    var x = canvas_pos.x * mpl.ratio;\n",
       "    var y = canvas_pos.y * mpl.ratio;\n",
       "\n",
       "    this.send_message(name, {x: x, y: y, button: event.button,\n",
       "                             step: event.step,\n",
       "                             guiEvent: simpleKeys(event)});\n",
       "\n",
       "    /* This prevents the web browser from automatically changing to\n",
       "     * the text insertion cursor when the button is pressed.  We want\n",
       "     * to control all of the cursor setting manually through the\n",
       "     * 'cursor' event from matplotlib */\n",
       "    event.preventDefault();\n",
       "    return false;\n",
       "}\n",
       "\n",
       "mpl.figure.prototype._key_event_extra = function(event, name) {\n",
       "    // Handle any extra behaviour associated with a key event\n",
       "}\n",
       "\n",
       "mpl.figure.prototype.key_event = function(event, name) {\n",
       "\n",
       "    // Prevent repeat events\n",
       "    if (name == 'key_press')\n",
       "    {\n",
       "        if (event.which === this._key)\n",
       "            return;\n",
       "        else\n",
       "            this._key = event.which;\n",
       "    }\n",
       "    if (name == 'key_release')\n",
       "        this._key = null;\n",
       "\n",
       "    var value = '';\n",
       "    if (event.ctrlKey && event.which != 17)\n",
       "        value += \"ctrl+\";\n",
       "    if (event.altKey && event.which != 18)\n",
       "        value += \"alt+\";\n",
       "    if (event.shiftKey && event.which != 16)\n",
       "        value += \"shift+\";\n",
       "\n",
       "    value += 'k';\n",
       "    value += event.which.toString();\n",
       "\n",
       "    this._key_event_extra(event, name);\n",
       "\n",
       "    this.send_message(name, {key: value,\n",
       "                             guiEvent: simpleKeys(event)});\n",
       "    return false;\n",
       "}\n",
       "\n",
       "mpl.figure.prototype.toolbar_button_onclick = function(name) {\n",
       "    if (name == 'download') {\n",
       "        this.handle_save(this, null);\n",
       "    } else {\n",
       "        this.send_message(\"toolbar_button\", {name: name});\n",
       "    }\n",
       "};\n",
       "\n",
       "mpl.figure.prototype.toolbar_button_onmouseover = function(tooltip) {\n",
       "    this.message.textContent = tooltip;\n",
       "};\n",
       "mpl.toolbar_items = [[\"Home\", \"Reset original view\", \"fa fa-home icon-home\", \"home\"], [\"Back\", \"Back to  previous view\", \"fa fa-arrow-left icon-arrow-left\", \"back\"], [\"Forward\", \"Forward to next view\", \"fa fa-arrow-right icon-arrow-right\", \"forward\"], [\"\", \"\", \"\", \"\"], [\"Pan\", \"Pan axes with left mouse, zoom with right\", \"fa fa-arrows icon-move\", \"pan\"], [\"Zoom\", \"Zoom to rectangle\", \"fa fa-square-o icon-check-empty\", \"zoom\"], [\"\", \"\", \"\", \"\"], [\"Download\", \"Download plot\", \"fa fa-floppy-o icon-save\", \"download\"]];\n",
       "\n",
       "mpl.extensions = [\"eps\", \"jpeg\", \"pdf\", \"png\", \"ps\", \"raw\", \"svg\", \"tif\"];\n",
       "\n",
       "mpl.default_extension = \"png\";var comm_websocket_adapter = function(comm) {\n",
       "    // Create a \"websocket\"-like object which calls the given IPython comm\n",
       "    // object with the appropriate methods. Currently this is a non binary\n",
       "    // socket, so there is still some room for performance tuning.\n",
       "    var ws = {};\n",
       "\n",
       "    ws.close = function() {\n",
       "        comm.close()\n",
       "    };\n",
       "    ws.send = function(m) {\n",
       "        //console.log('sending', m);\n",
       "        comm.send(m);\n",
       "    };\n",
       "    // Register the callback with on_msg.\n",
       "    comm.on_msg(function(msg) {\n",
       "        //console.log('receiving', msg['content']['data'], msg);\n",
       "        // Pass the mpl event to the overriden (by mpl) onmessage function.\n",
       "        ws.onmessage(msg['content']['data'])\n",
       "    });\n",
       "    return ws;\n",
       "}\n",
       "\n",
       "mpl.mpl_figure_comm = function(comm, msg) {\n",
       "    // This is the function which gets called when the mpl process\n",
       "    // starts-up an IPython Comm through the \"matplotlib\" channel.\n",
       "\n",
       "    var id = msg.content.data.id;\n",
       "    // Get hold of the div created by the display call when the Comm\n",
       "    // socket was opened in Python.\n",
       "    var element = $(\"#\" + id);\n",
       "    var ws_proxy = comm_websocket_adapter(comm)\n",
       "\n",
       "    function ondownload(figure, format) {\n",
       "        window.open(figure.imageObj.src);\n",
       "    }\n",
       "\n",
       "    var fig = new mpl.figure(id, ws_proxy,\n",
       "                           ondownload,\n",
       "                           element.get(0));\n",
       "\n",
       "    // Call onopen now - mpl needs it, as it is assuming we've passed it a real\n",
       "    // web socket which is closed, not our websocket->open comm proxy.\n",
       "    ws_proxy.onopen();\n",
       "\n",
       "    fig.parent_element = element.get(0);\n",
       "    fig.cell_info = mpl.find_output_cell(\"<div id='\" + id + \"'></div>\");\n",
       "    if (!fig.cell_info) {\n",
       "        console.error(\"Failed to find cell for figure\", id, fig);\n",
       "        return;\n",
       "    }\n",
       "\n",
       "    var output_index = fig.cell_info[2]\n",
       "    var cell = fig.cell_info[0];\n",
       "\n",
       "};\n",
       "\n",
       "mpl.figure.prototype.handle_close = function(fig, msg) {\n",
       "    var width = fig.canvas.width/mpl.ratio\n",
       "    fig.root.unbind('remove')\n",
       "\n",
       "    // Update the output cell to use the data from the current canvas.\n",
       "    fig.push_to_output();\n",
       "    var dataURL = fig.canvas.toDataURL();\n",
       "    // Re-enable the keyboard manager in IPython - without this line, in FF,\n",
       "    // the notebook keyboard shortcuts fail.\n",
       "    IPython.keyboard_manager.enable()\n",
       "    $(fig.parent_element).html('<img src=\"' + dataURL + '\" width=\"' + width + '\">');\n",
       "    fig.close_ws(fig, msg);\n",
       "}\n",
       "\n",
       "mpl.figure.prototype.close_ws = function(fig, msg){\n",
       "    fig.send_message('closing', msg);\n",
       "    // fig.ws.close()\n",
       "}\n",
       "\n",
       "mpl.figure.prototype.push_to_output = function(remove_interactive) {\n",
       "    // Turn the data on the canvas into data in the output cell.\n",
       "    var width = this.canvas.width/mpl.ratio\n",
       "    var dataURL = this.canvas.toDataURL();\n",
       "    this.cell_info[1]['text/html'] = '<img src=\"' + dataURL + '\" width=\"' + width + '\">';\n",
       "}\n",
       "\n",
       "mpl.figure.prototype.updated_canvas_event = function() {\n",
       "    // Tell IPython that the notebook contents must change.\n",
       "    IPython.notebook.set_dirty(true);\n",
       "    this.send_message(\"ack\", {});\n",
       "    var fig = this;\n",
       "    // Wait a second, then push the new image to the DOM so\n",
       "    // that it is saved nicely (might be nice to debounce this).\n",
       "    setTimeout(function () { fig.push_to_output() }, 1000);\n",
       "}\n",
       "\n",
       "mpl.figure.prototype._init_toolbar = function() {\n",
       "    var fig = this;\n",
       "\n",
       "    var nav_element = $('<div/>')\n",
       "    nav_element.attr('style', 'width: 100%');\n",
       "    this.root.append(nav_element);\n",
       "\n",
       "    // Define a callback function for later on.\n",
       "    function toolbar_event(event) {\n",
       "        return fig.toolbar_button_onclick(event['data']);\n",
       "    }\n",
       "    function toolbar_mouse_event(event) {\n",
       "        return fig.toolbar_button_onmouseover(event['data']);\n",
       "    }\n",
       "\n",
       "    for(var toolbar_ind in mpl.toolbar_items){\n",
       "        var name = mpl.toolbar_items[toolbar_ind][0];\n",
       "        var tooltip = mpl.toolbar_items[toolbar_ind][1];\n",
       "        var image = mpl.toolbar_items[toolbar_ind][2];\n",
       "        var method_name = mpl.toolbar_items[toolbar_ind][3];\n",
       "\n",
       "        if (!name) { continue; };\n",
       "\n",
       "        var button = $('<button class=\"btn btn-default\" href=\"#\" title=\"' + name + '\"><i class=\"fa ' + image + ' fa-lg\"></i></button>');\n",
       "        button.click(method_name, toolbar_event);\n",
       "        button.mouseover(tooltip, toolbar_mouse_event);\n",
       "        nav_element.append(button);\n",
       "    }\n",
       "\n",
       "    // Add the status bar.\n",
       "    var status_bar = $('<span class=\"mpl-message\" style=\"text-align:right; float: right;\"/>');\n",
       "    nav_element.append(status_bar);\n",
       "    this.message = status_bar[0];\n",
       "\n",
       "    // Add the close button to the window.\n",
       "    var buttongrp = $('<div class=\"btn-group inline pull-right\"></div>');\n",
       "    var button = $('<button class=\"btn btn-mini btn-primary\" href=\"#\" title=\"Stop Interaction\"><i class=\"fa fa-power-off icon-remove icon-large\"></i></button>');\n",
       "    button.click(function (evt) { fig.handle_close(fig, {}); } );\n",
       "    button.mouseover('Stop Interaction', toolbar_mouse_event);\n",
       "    buttongrp.append(button);\n",
       "    var titlebar = this.root.find($('.ui-dialog-titlebar'));\n",
       "    titlebar.prepend(buttongrp);\n",
       "}\n",
       "\n",
       "mpl.figure.prototype._root_extra_style = function(el){\n",
       "    var fig = this\n",
       "    el.on(\"remove\", function(){\n",
       "\tfig.close_ws(fig, {});\n",
       "    });\n",
       "}\n",
       "\n",
       "mpl.figure.prototype._canvas_extra_style = function(el){\n",
       "    // this is important to make the div 'focusable\n",
       "    el.attr('tabindex', 0)\n",
       "    // reach out to IPython and tell the keyboard manager to turn it's self\n",
       "    // off when our div gets focus\n",
       "\n",
       "    // location in version 3\n",
       "    if (IPython.notebook.keyboard_manager) {\n",
       "        IPython.notebook.keyboard_manager.register_events(el);\n",
       "    }\n",
       "    else {\n",
       "        // location in version 2\n",
       "        IPython.keyboard_manager.register_events(el);\n",
       "    }\n",
       "\n",
       "}\n",
       "\n",
       "mpl.figure.prototype._key_event_extra = function(event, name) {\n",
       "    var manager = IPython.notebook.keyboard_manager;\n",
       "    if (!manager)\n",
       "        manager = IPython.keyboard_manager;\n",
       "\n",
       "    // Check for shift+enter\n",
       "    if (event.shiftKey && event.which == 13) {\n",
       "        this.canvas_div.blur();\n",
       "        // select the cell after this one\n",
       "        var index = IPython.notebook.find_cell_index(this.cell_info[0]);\n",
       "        IPython.notebook.select(index + 1);\n",
       "    }\n",
       "}\n",
       "\n",
       "mpl.figure.prototype.handle_save = function(fig, msg) {\n",
       "    fig.ondownload(fig, null);\n",
       "}\n",
       "\n",
       "\n",
       "mpl.find_output_cell = function(html_output) {\n",
       "    // Return the cell and output element which can be found *uniquely* in the notebook.\n",
       "    // Note - this is a bit hacky, but it is done because the \"notebook_saving.Notebook\"\n",
       "    // IPython event is triggered only after the cells have been serialised, which for\n",
       "    // our purposes (turning an active figure into a static one), is too late.\n",
       "    var cells = IPython.notebook.get_cells();\n",
       "    var ncells = cells.length;\n",
       "    for (var i=0; i<ncells; i++) {\n",
       "        var cell = cells[i];\n",
       "        if (cell.cell_type === 'code'){\n",
       "            for (var j=0; j<cell.output_area.outputs.length; j++) {\n",
       "                var data = cell.output_area.outputs[j];\n",
       "                if (data.data) {\n",
       "                    // IPython >= 3 moved mimebundle to data attribute of output\n",
       "                    data = data.data;\n",
       "                }\n",
       "                if (data['text/html'] == html_output) {\n",
       "                    return [cell, data, j];\n",
       "                }\n",
       "            }\n",
       "        }\n",
       "    }\n",
       "}\n",
       "\n",
       "// Register the function which deals with the matplotlib target/channel.\n",
       "// The kernel may be null if the page has been refreshed.\n",
       "if (IPython.notebook.kernel != null) {\n",
       "    IPython.notebook.kernel.comm_manager.register_target('matplotlib', mpl.mpl_figure_comm);\n",
       "}\n"
      ],
      "text/plain": [
       "<IPython.core.display.Javascript object>"
      ]
     },
     "metadata": {},
     "output_type": "display_data"
    },
    {
     "data": {
      "text/html": [
       "<img src=\"data:image/png;base64,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\" width=\"1000\">"
      ],
      "text/plain": [
       "<IPython.core.display.HTML object>"
      ]
     },
     "metadata": {},
     "output_type": "display_data"
    },
    {
     "data": {
      "text/plain": [
       "array([[<matplotlib.axes._subplots.AxesSubplot object at 0x7f79ae88dcf8>],\n",
       "       [<matplotlib.axes._subplots.AxesSubplot object at 0x7f79ab4f7dd8>]], dtype=object)"
      ]
     },
     "execution_count": 5,
     "metadata": {},
     "output_type": "execute_result"
    }
   ],
   "source": [
    "import pandas as pd\n",
    "import matplotlib.pyplot as plt\n",
    "%matplotlib notebook\n",
    "\n",
    "sdf=pd.DataFrame(stats, columns=[\"filecount\", \"scantime\"])\n",
    "sdf.plot(subplots=True, layout=(2,1), figsize=(10,4), sharex=True)"
   ]
  },
  {
   "cell_type": "markdown",
   "metadata": {
    "slideshow": {
     "slide_type": "subslide"
    }
   },
   "source": [
    "As you can see <b id=\"big\">most of the directories</b> don't have many entries and are therfore <b id=\"big\">quickly</b> scanned. \n",
    "\n",
    "Some on the other hand have a very <b id=\"big\">large number of entries</b>, which considerably <b id=\"big\">slows down</b> the scan process.\n",
    "\n",
    "The `os.walk` based approach is the <b id=\"big\">most traditional way</b> of scanning a filesystem.\n",
    "\n",
    "Whilst it is perfectly suitable to create a simple list of entries, it is <b id=\"big\">not very efficient</b> as soon as more detailed properties have to be collected, such as we have to."
   ]
  },
  {
   "cell_type": "markdown",
   "metadata": {
    "slideshow": {
     "slide_type": "slide"
    }
   },
   "source": [
    "There is however a <b id=\"big\">more efficient implementation</b> available in Python 3.x called `os.scandir`.\n",
    "\n",
    "It is based on an <b id=\"big\">iterators</b> and returns `os.DirEntry` objects offering higher performance by joining the list and the stat operation in one go. \n",
    "\n",
    "This should result in a <b id=\"big\">small speedup</b>.\n",
    "\n",
    "As we do no longer work on paths and no longer use the `os.walk` approach our implementation changes a bit.\n",
    "\n",
    "The <b id=\"big\">helper</b> function to retrieve the file info has to be slightly adjusted."
   ]
  },
  {
   "cell_type": "code",
   "execution_count": 7,
   "metadata": {
    "collapsed": true,
    "slideshow": {
     "slide_type": "subslide"
    }
   },
   "outputs": [],
   "source": [
    "def get_file_info(dir_entry):\n",
    "    dirname = os.path.abspath(os.path.dirname(dir_entry.path))\n",
    "    filename = dir_entry.name\n",
    "    filetype = os.path.splitext(dir_entry.path)[1][1:].lower()\n",
    "    stat=dir_entry.stat()\n",
    "    size = stat.st_size\n",
    "    owner = stat.st_uid\n",
    "    group = stat.st_gid\n",
    "    ctime = pendulum.from_timestamp(stat.st_ctime)\n",
    "    mtime = pendulum.from_timestamp(stat.st_mtime)\n",
    "    atime = pendulum.from_timestamp(stat.st_atime)\n",
    "    \n",
    "    return (dirname, filename, filetype, size, owner, group, ctime, mtime, atime)"
   ]
  },
  {
   "cell_type": "markdown",
   "metadata": {
    "slideshow": {
     "slide_type": "slide"
    }
   },
   "source": [
    "And we need to change the way we iterate over the directory tree.\n",
    "\n",
    "It's actually a <b id=\"big\">neat concept</b> that is used here which is based on clearing up a <b id=\"big\">todo list</b> which is constantly <b id=\"big\">refilled</b> by scan results until completion."
   ]
  },
  {
   "cell_type": "code",
   "execution_count": 7,
   "metadata": {
    "slideshow": {
     "slide_type": "subslide"
    }
   },
   "outputs": [
    {
     "name": "stdout",
     "output_type": "stream",
     "text": [
      "1000 2895 1952\n",
      "2000 3791 24556\n",
      "3000 3867 57329\n",
      "4000 5097 57654\n",
      "5000 5097 57904\n",
      "57904 61.60576915740967\n"
     ]
    }
   ],
   "source": [
    "tic=time.time()\n",
    "\n",
    "all_files=[]\n",
    "number_of_files=0\n",
    "\n",
    "todo=[entry.path for entry in os.scandir(entry_dir) if entry.is_dir(follow_symlinks=False)]\n",
    "number_of_dirs=len(todo)\n",
    "\n",
    "iteration=0\n",
    "for entry in todo:\n",
    "    iteration+=1\n",
    "    \n",
    "    for item in os.scandir(entry):\n",
    "        if item.is_dir():\n",
    "            todo.append(item.path)\n",
    "            number_of_dirs+=1\n",
    "        elif item.is_file(follow_symlinks=False):\n",
    "            file_info = get_file_info(item)\n",
    "            all_files.append(file_info)\n",
    "            number_of_files+=1\n",
    "        else:\n",
    "            pass\n",
    "    \n",
    "    if (iteration % 1000)==0:\n",
    "        print(iteration, number_of_dirs, number_of_files)\n",
    "    \n",
    "toc=time.time()\n",
    "print(len(all_files), toc-tic)"
   ]
  },
  {
   "cell_type": "markdown",
   "metadata": {
    "slideshow": {
     "slide_type": "subslide"
    }
   },
   "source": [
    "The overall <b id=\"big\">speedup</b> is there. But it's not a large step.\n",
    "\n",
    "The problem is still the sort of <b id=\"big\">blocking behaviour</b> occuring when scanning large directories, which prevents quick progress when using a <b id=\"big\">single CPU</b>, which we still do.\n",
    "\n",
    "Can we go multicore then?"
   ]
  },
  {
   "cell_type": "markdown",
   "metadata": {
    "slideshow": {
     "slide_type": "slide"
    }
   },
   "source": [
    "<b id=\"large\">Scale a bit</b>\n",
    "\n",
    "The <b id=\"big\">idea</b> here is to distinguish between <b id=\"big\">directory</b> and <b id=\"big\">file</b> entries and work with them <b id=\"big\">separately</b>.\n",
    "\n",
    "Currently we're extending the todo list with every directory we find, but the <b id=\"big\">next</b> directory scan is <b id=\"big\">not triggered before</b> the current directory scan is <b id=\"big\">complete</b>."
   ]
  },
  {
   "cell_type": "markdown",
   "metadata": {
    "slideshow": {
     "slide_type": "subslide"
    }
   },
   "source": [
    "As there are no connections between the contents of several directories, this seems to be the ideal entry point for <b id=\"big\">parallelizing the work</b>.\n",
    "\n",
    "So we should have a <b id=\"big\">single todo list</b> of directories to be scanned by a <b id=\"big\">number of workers</b> creating a single set of resulting files."
   ]
  },
  {
   "cell_type": "markdown",
   "metadata": {
    "slideshow": {
     "slide_type": "subslide"
    }
   },
   "source": [
    "The most <b id=\"big\">straightforward approach</b> for this is probably to use Pythons multiprocessing module for this.\n",
    "\n",
    "It's based on <b id=\"big\">mapping</b> a single function onto a <b id=\"big\">list of parameters</b> creating the desired results. A completely independent list of parameters will allow perfect parallelization of work in this case."
   ]
  },
  {
   "cell_type": "markdown",
   "metadata": {
    "slideshow": {
     "slide_type": "subslide"
    }
   },
   "source": [
    "So let's create the function to be <b id=\"big\">mapped</b>\n",
    "\n",
    "It should take a path to a directory as an argument and return its scan results following the old `os.walk` approach."
   ]
  },
  {
   "cell_type": "code",
   "execution_count": 9,
   "metadata": {
    "collapsed": true,
    "slideshow": {
     "slide_type": "subslide"
    }
   },
   "outputs": [],
   "source": [
    "def scan_dir(root):\n",
    "    dirs=[]\n",
    "    files=[]   \n",
    "    \n",
    "    for item in os.scandir(root):\n",
    "        if item.is_dir():\n",
    "            dirs.append(item.path)\n",
    "        elif item.is_file(follow_symlinks=False):\n",
    "            file_info = get_file_info(item)\n",
    "            files.append(file_info)\n",
    "        else:\n",
    "            pass\n",
    "\n",
    "    return (root, dirs, files)"
   ]
  },
  {
   "cell_type": "markdown",
   "metadata": {
    "slideshow": {
     "slide_type": "subslide"
    }
   },
   "source": [
    "The main block changes by using a <b id=\"big\">Pool</b> with a suitable amount of <b id=\"big\">workers</b> working on our steadily changing <b id=\"big\">todo list</b>.\n",
    "\n",
    "<b id=\"big\">New</b> directories coming in are <b id=\"big\">appended</b> to the todo list, whereas <b id=\"big\">completed</b> ones are removed.\n",
    "\n",
    "An <b id=\"big\">empty</b> todo list will <b id=\"big\">end</b> the scan and <b id=\"big\">clean up</b> the pool of workers."
   ]
  },
  {
   "cell_type": "code",
   "execution_count": 11,
   "metadata": {
    "slideshow": {
     "slide_type": "subslide"
    }
   },
   "outputs": [
    {
     "name": "stdout",
     "output_type": "stream",
     "text": [
      "1 31 31 77\n",
      "2 2853 2884 956\n",
      "3 972 3856 57329\n",
      "4 1230 5086 57651\n",
      "5 0 5086 57904\n",
      "6 57916 4.271350622177124\n"
     ]
    }
   ],
   "source": [
    "import multiprocessing\n",
    "import itertools\n",
    "\n",
    "tic=time.time()\n",
    "\n",
    "_, todo, files= scan_dir(entry_dir)\n",
    "results=[files]\n",
    "number_of_dirs=0\n",
    "number_of_files=0\n",
    "\n",
    "with multiprocessing.Pool(processes=2) as pool:\n",
    "    iteration=0\n",
    "    while True:\n",
    "        iteration+=1\n",
    "        if not todo:\n",
    "            break\n",
    "       \n",
    "        for root, dirs, files in pool.map(scan_dir, todo):\n",
    "            number_of_dirs+=len(dirs)\n",
    "            todo.extend(dirs)\n",
    "            results.append(files)\n",
    "            todo.remove(root)\n",
    "            number_of_files+=len(files)\n",
    "            \n",
    "        print(iteration, len(todo), number_of_dirs, number_of_files)\n",
    "            \n",
    "all_files=list(itertools.chain.from_iterable(results))\n",
    "toc=time.time()\n",
    "\n",
    "print(iteration, len(all_files), toc-tic)"
   ]
  },
  {
   "cell_type": "markdown",
   "metadata": {
    "slideshow": {
     "slide_type": "-"
    }
   },
   "source": [
    "That's a <b id=\"big\">notable speedup</b>."
   ]
  },
  {
   "cell_type": "markdown",
   "metadata": {
    "slideshow": {
     "slide_type": "slide"
    }
   },
   "source": [
    "<p id=\"huge\">Scale out!</p>"
   ]
  },
  {
   "cell_type": "markdown",
   "metadata": {
    "slideshow": {
     "slide_type": "subslide"
    }
   },
   "source": [
    "<b id=\"large\">Keeping up with the time</b>"
   ]
  },
  {
   "cell_type": "markdown",
   "metadata": {
    "slideshow": {
     "slide_type": "subslide"
    }
   },
   "source": [
    "<b id=\"big\">Introduction to dask</b>\n",
    "\n",
    "From the docs:\n",
    "\n",
    "`dask.distributed` is a lightweight library for <b id=\"big\">distributed computing</b> in Python.\n",
    "\n",
    "It extends both the `concurrent.futures` and `dask` APIs to moderate sized clusters.\n",
    "\n",
    "<b id=\"big\">Install</b> it using\n",
    "\n",
    "`conda install dask distributed -c conda-forge`"
   ]
  },
  {
   "cell_type": "markdown",
   "metadata": {
    "slideshow": {
     "slide_type": "subslide"
    }
   },
   "source": [
    "<b id=\"big\">`dask`</b> itself has been created to address <b id=\"big\">large and memory intense</b> problems.\n",
    "\n",
    "It was meant to offer a <b id=\"big\">simple solution</b> for problems, where the data to be worked on <b id=\"big\">no longer fits into memory</b>.\n",
    "\n",
    "<b id=\"big\">Before</b> `dask` you had to <b id=\"big\">manually split up</b> your problem and work with chunks of data processing intermediate results on the way to the final set of numbers."
   ]
  },
  {
   "cell_type": "markdown",
   "metadata": {
    "slideshow": {
     "slide_type": "subslide"
    }
   },
   "source": [
    "<b id=\"big\">Or</b> you were to enter the world of <b id=\"big\">distributed computing</b> using `mpi` for example, a sort of batch system, or some hadoopish approach.\n",
    "\n",
    "For many this was like taking a <b id=\"big\">sledgehammer to crack a nut.</b>\n",
    "\n",
    "And with the additional protocol overhead introduced it takes quite some hardware without dropping performance, which tends to be expensive."
   ]
  },
  {
   "cell_type": "markdown",
   "metadata": {
    "slideshow": {
     "slide_type": "subslide"
    }
   },
   "source": [
    "With `dask` you could just use available <b id=\"big\">local storage to extend</b> yur main memory and let `dask` do the necessary tricks under the hood. \n",
    "\n",
    "With the ever increasing performance of SSDs this turns out to be a <b id=\"big\">great idea</b>.\n",
    "\n",
    "`dask` also implements the `numpy` interface for almost all operations, so it may act as <b id=\"big\">a drop in replacement</b> allowing to work with larger datasets without changing the existing code."
   ]
  },
  {
   "cell_type": "markdown",
   "metadata": {
    "slideshow": {
     "slide_type": "subslide"
    }
   },
   "source": [
    "So what `dask` really does under the hood is breaking up the work into smaller parts organized by a <b id=\"big\">task graph</b>, which is iterated until completion of the work, steadily paging the data in and out of the main memory if needed. \n",
    "\n",
    "This is a well known and robust approach, which also introduces just <b id=\"big\">little overhead</b>.\n",
    "\n",
    "Furthermore it allows to complete independent <b id=\"big\">subtasks in parallel</b>, which utilizes the available hardware as good as possible, offering a nice <b id=\"big\">potential for a speedup</b>."
   ]
  },
  {
   "cell_type": "markdown",
   "metadata": {
    "slideshow": {
     "slide_type": "subslide"
    }
   },
   "source": [
    "And by introducing some code for <b id=\"big\">network</b> communication and organization, the workers do not even need to be located on the same machine. This is implememted in the <b id=\"big\">`distributed`</b> part of `dask`.\n",
    "\n",
    "And this is exactly what we're about to be using to distribute our workload."
   ]
  },
  {
   "cell_type": "markdown",
   "metadata": {
    "slideshow": {
     "slide_type": "subslide"
    }
   },
   "source": [
    "<b id=\"big\">Usage</b>\n",
    "\n",
    "First of all you have to have a <b id=\"big\">central scheduler</b> and a number of <b id=\"big\">workers</b> up and running.\n",
    "\n",
    "It's advisable to start off using a <b id=\"big\">local Cluster</b> running on a single machine. \n",
    "\n",
    "This will also mimic the multiprocessing approach we used before.\n",
    "\n",
    "So <b id=\"big\">let's do</b> exactly that."
   ]
  },
  {
   "cell_type": "markdown",
   "metadata": {
    "slideshow": {
     "slide_type": "subslide"
    }
   },
   "source": [
    "<b id=\"big\">Instead</b> of creating a `multiprocessing.Pool` we are creating a `LocalCluster` with the same number of processes and connect our work `scheduler` to it.\n",
    "\n",
    "To complete the work we're still following the concept of <b id=\"big\">emptying a dynamic todo list</b>. However this list now holds `future` objects, which is a concept introduced with bringing <b id=\"big\">asynchronous programming</b> to Python. \n",
    "\n",
    "All calls generating <b id=\"big\">futures will directly return</b>.\n",
    "\n",
    "And the <b id=\"big\">corresponding results</b> can be expected to become available. They can be <b id=\"big\">awaited</b>."
   ]
  },
  {
   "cell_type": "markdown",
   "metadata": {
    "slideshow": {
     "slide_type": "subslide"
    }
   },
   "source": [
    "It `dask.distributed` we us the `as_completed` function to iterate over the results. This ensures to loop over the results <b id=\"big\">as they become available</b> instead of the <b id=\"big\">order they have been generated</b>.\n",
    "\n",
    "Using the <b id=\"big\">local cluster</b> backend this should take pretty much the same time as the multiprocessing approach."
   ]
  },
  {
   "cell_type": "code",
   "execution_count": 13,
   "metadata": {
    "slideshow": {
     "slide_type": "subslide"
    }
   },
   "outputs": [
    {
     "name": "stdout",
     "output_type": "stream",
     "text": [
      "<Client: scheduler='tcp://127.0.0.1:25780' processes=2 cores=16>\n",
      "1 11 11 12\n",
      "2 31 42 89\n",
      "3 2853 2895 968\n",
      "4 972 3867 57341\n",
      "5 1230 5097 57663\n",
      "6 0 5097 57916\n",
      "6 57916 48.8433153629303\n"
     ]
    }
   ],
   "source": [
    "from distributed import Client, LocalCluster, as_completed\n",
    "\n",
    "all_files=[]\n",
    "number_of_dirs=0\n",
    "number_of_files=0\n",
    "\n",
    "tic = time.time()\n",
    "with LocalCluster(n_workers=2) as cluster:\n",
    "    with Client(cluster) as client:\n",
    "        print(client)\n",
    "\n",
    "        futures=[client.submit(scan_dir, entry_dir)]\n",
    "\n",
    "        iteration=0\n",
    "        while True:\n",
    "            iteration+=1\n",
    "\n",
    "            for future in as_completed(futures):\n",
    "                futures.remove(future)\n",
    "                root, dirs, files=future.result()\n",
    "\n",
    "                all_files.extend(files)\n",
    "                number_of_dirs+=len(dirs)\n",
    "                number_of_files+=len(files)\n",
    "                futures.extend([client.submit(scan_dir, subdir) for subdir in dirs])\n",
    "\n",
    "            print(iteration, len(futures), number_of_dirs, number_of_files)\n",
    "\n",
    "            if not futures:\n",
    "                break\n",
    "\n",
    "toc=time.time()\n",
    "\n",
    "print(iteration, len(all_files), toc-tic)"
   ]
  },
  {
   "cell_type": "markdown",
   "metadata": {
    "slideshow": {
     "slide_type": "slide"
    }
   },
   "source": [
    "In order to quickly create a <b id=\"big\">real distributed cluster</b> for use with dask you can use the `dask-ssh` helper utility.\n",
    "\n",
    "Using the <b id=\"big\">following command</b> I am creating a cluster of 10 machines with 16 cores each resulting in a dask cluster using 160 cores.\n",
    "\n",
    "`dask-ssh node00{01..10} --nprocs 16 --nthreads 1`\n",
    "\n",
    "With specifying 16 cores and 1 thread explicitely I've decided to use <b id=\"big\">real processes</b> to perform the work. You can of course also favor a thread based setup. It largely depends on the task being performed, which approach is best."
   ]
  },
  {
   "cell_type": "markdown",
   "metadata": {
    "slideshow": {
     "slide_type": "subslide"
    }
   },
   "source": [
    "To use the new setup you would just need to <b id=\"big\">change</b> the `Client` instantiation to point to the scheduler address.\n",
    "\n",
    "<b id=\"big\">The remaining part of the script remains unchanged.</b>\n"
   ]
  },
  {
   "cell_type": "code",
   "execution_count": 16,
   "metadata": {
    "slideshow": {
     "slide_type": "subslide"
    }
   },
   "outputs": [
    {
     "name": "stdout",
     "output_type": "stream",
     "text": [
      "1 11 11 12\n",
      "2 31 42 89\n",
      "3 2853 2895 968\n",
      "4 972 3867 57341\n",
      "5 1230 5097 57663\n",
      "6 0 5097 57916\n",
      "6 57916 33.69023108482361\n"
     ]
    }
   ],
   "source": [
    "futures=[]\n",
    "all_files=[]\n",
    "number_of_dirs=0\n",
    "number_of_files=0\n",
    "\n",
    "tic=time.time()\n",
    "with Client(\"node0001:8786\") as client:\n",
    "    print(client)\n",
    "\n",
    "    futures.extend([client.submit(scan_dir, entry_dir)])\n",
    "\n",
    "    iteration=0\n",
    "    while True:\n",
    "        iteration+=1\n",
    "\n",
    "        for future in as_completed(futures):\n",
    "            futures.remove(future)\n",
    "            root, dirs, files=future.result()\n",
    "\n",
    "            all_files.extend(files)\n",
    "            number_of_dirs+=len(dirs)\n",
    "            number_of_files+=len(files)\n",
    "            futures.extend([client.submit(scan_dir, subdir) for subdir in dirs])\n",
    "\n",
    "        print(iteration, len(futures), number_of_dirs, number_of_files)\n",
    "\n",
    "        if not futures:\n",
    "            break\n",
    "\n",
    "toc=time.time()\n",
    "\n",
    "print(iteration, len(all_files), toc-tic)"
   ]
  },
  {
   "cell_type": "markdown",
   "metadata": {
    "slideshow": {
     "slide_type": "subslide"
    }
   },
   "source": [
    "And this is the output of the distributed version:\n",
    "\n",
    "<pre id=\"smaller\">\n",
    "\t1     47         51         10      0\n",
    "    2    384        435        480      2\n",
    "    3   1111       1546       2527      2\n",
    "    4   5704       7250       8535      2\n",
    "    5  17806      25056      61164      3\n",
    "    6  75294     100350     160420      3\n",
    "    7  49784     150134     907686      3\n",
    "    8  88867     239001    2236862      3\n",
    "    9 107071     346072    7595319      3\n",
    "   10  65369     411441   12809371      3\n",
    "   11  50975     462416   14100842      3\n",
    "   12  20899     483315   15483165      3\n",
    "   13  11411     494726   15747717      3\n",
    "   14   4665     499391   15937513      3\n",
    "   15   9955     509346   15983627      3\n",
    "   16    713     510059   16052514      3\n",
    "   17    321     510380   16059515      3\n",
    "   18    110     510490   16062227      3\n",
    "   19     73     510563   16063022      3\n",
    "   20     77     510640   16063539      3\n",
    "   21     37     510677   16063842      3\n",
    "Scanned 510677 dirs in 3243.81 s finding 16063935 files.\n",
    "</pre>\n",
    "\n",
    "The scanning process completed in less than an hour."
   ]
  },
  {
   "cell_type": "markdown",
   "metadata": {
    "slideshow": {
     "slide_type": "subslide"
    }
   },
   "source": [
    "That's the expected <b id=\"big\">vast</b> speedup.\n",
    "\n",
    "[insert some more benefits of this solution]"
   ]
  },
  {
   "cell_type": "markdown",
   "metadata": {
    "slideshow": {
     "slide_type": "slide"
    }
   },
   "source": [
    "And this is an excerpt of the <b id=\"big\">status page</b> which is served by the scheduler showing the progress of the scan.\n",
    "\n",
    "<center>![fs scan progress](./images/fs-scan-progress.gif)</center>"
   ]
  },
  {
   "cell_type": "markdown",
   "metadata": {
    "slideshow": {
     "slide_type": "slide"
    }
   },
   "source": [
    "<b id=\"large\">Message to take home</b>\n",
    "\n",
    "- <b id=\"big\">scale out</b> from the very beginning <b id=\"small\">as it is simple</b>\n",
    "- <b id=\"big\">don't force creating structures</b> prior to collecting your data\n",
    "- find ways to <b id=\"big\">document the data</b> that is available <b id=\"small\">to ease using it</b>\n",
    "- <b id=\"big\">publish a table of contents</b> of the available data on a regular base <b id=\"small\">to allow finding desired datasets quickly</b>\n",
    "- create <b id=\"big\">awareness</b> of what's there and the value related to the data"
   ]
  },
  {
   "cell_type": "markdown",
   "metadata": {
    "slideshow": {
     "slide_type": "slide"
    },
    "tags": [
     "questionsslide"
    ]
   },
   "source": [
    "<p id=\"huge\">Questions?</p>"
   ]
  },
  {
   "cell_type": "markdown",
   "metadata": {
    "slideshow": {
     "slide_type": "slide"
    }
   },
   "source": [
    "<b id=\"large\">Bonus round</b>\n",
    "\n",
    "<b id=\"large\">More detailed statistics</b>"
   ]
  },
  {
   "cell_type": "markdown",
   "metadata": {
    "slideshow": {
     "slide_type": "subslide"
    }
   },
   "source": [
    "Read in the scan results stored in csv files into a distributed pandas dataframe."
   ]
  },
  {
   "cell_type": "code",
   "execution_count": null,
   "metadata": {
    "collapsed": true,
    "slideshow": {
     "slide_type": "-"
    }
   },
   "outputs": [],
   "source": [
    "csv_files=\"./fs_scan_results/csv/files_and_stat_ilidata_*.csv\"\n",
    "df=dd.read_csv(csv_files,\n",
    "              names=[\"dirname\", \"filename\", \"ext\", \"uid\", \"gid\", \"size\", \"atime\", \"mtime\", \"ctime\"],\n",
    "              dtype={\"dirname\":str, \"filename\":str, \"ext\":str, \"uid\":int, \"gid\":int, \"size\":int},\n",
    "              parse_dates=[\"atime\", \"mtime\", \"ctime\"]\n",
    "              )"
   ]
  },
  {
   "cell_type": "markdown",
   "metadata": {
    "slideshow": {
     "slide_type": "subslide"
    }
   },
   "source": [
    "Define all necessary computations on the dataframe as tasks in a dictionary."
   ]
  },
  {
   "cell_type": "code",
   "execution_count": null,
   "metadata": {
    "collapsed": true,
    "slideshow": {
     "slide_type": "-"
    }
   },
   "outputs": [],
   "source": [
    "tasks={}\n",
    "tasks[\"number_of_all_files\"]=df.filename.count()\n",
    "tasks[\"size_of_all_files\"]=df[\"size\"].sum()\n",
    "tasks[\"number_of_srh5_files\"]=df[df[\"ext\"]==\".srh5\"][\"filename\"].count()\n",
    "tasks[\"size_of_srh5_files\"]=df[df[\"ext\"]==\".srh5\"][\"size\"].sum()\n",
    "tasks[\"number_of_project_files\"]=df[df.project.notnull()][\"filename\"].count()\n",
    "tasks[\"size_of_project_files\"]=df[df.project.notnull()][\"size\"].sum()\n",
    "\n",
    "for column in [\"dirname\", \"ext\", \"uid\", \"project\"]:\n",
    "    tasks[\"{0:s}_with_most_files\".format(column)]=df[column].value_counts().nlargest(5)\n",
    "    tasks[\"{0:s}_with_most_data\".format(column)]=df[[column, \"size\"]].groupby([column])[\"size\"].sum().nlargest(5)"
   ]
  },
  {
   "cell_type": "markdown",
   "metadata": {
    "slideshow": {
     "slide_type": "subslide"
    }
   },
   "source": [
    "Trigger the computation."
   ]
  },
  {
   "cell_type": "code",
   "execution_count": null,
   "metadata": {
    "collapsed": true,
    "slideshow": {
     "slide_type": "-"
    }
   },
   "outputs": [],
   "source": [
    "results = dd.compute(*tasks.values())"
   ]
  },
  {
   "cell_type": "markdown",
   "metadata": {
    "slideshow": {
     "slide_type": "subslide"
    }
   },
   "source": [
    "The dask status page looks even more attractive now.\n",
    "\n",
    "<center>![rundata analysis](./images/analyze-rundata-progress.gif)</center>"
   ]
  },
  {
   "cell_type": "markdown",
   "metadata": {
    "slideshow": {
     "slide_type": "subslide"
    }
   },
   "source": [
    "Retrieve the results and merge them together with the task descriptions into a result dictionary."
   ]
  },
  {
   "cell_type": "code",
   "execution_count": null,
   "metadata": {
    "collapsed": true,
    "slideshow": {
     "slide_type": "-"
    }
   },
   "outputs": [],
   "source": [
    "computed=dict(zip(tasks.keys(), results))"
   ]
  },
  {
   "cell_type": "markdown",
   "metadata": {
    "slideshow": {
     "slide_type": "subslide"
    }
   },
   "source": [
    "And present the results. \n",
    "\n",
    "<b id=\"small\">These are from an older scan.</b>"
   ]
  },
  {
   "cell_type": "code",
   "execution_count": null,
   "metadata": {
    "collapsed": true,
    "slideshow": {
     "slide_type": "-"
    }
   },
   "outputs": [],
   "source": [
    "print(\"Number of files found: {0:d}\".format(computed[\"number_of_all_files\"]))\n",
    "print(\"Size of files: {0:s}.\".format(format_size(computed[\"size_of_all_files\"])))\n",
    "print(\"Number of srh5 files found: {0:d}\".format(computed[\"number_of_srh5_files\"]))\n",
    "print(\"Size of srh5 files: {0:s}.\".format(format_size(computed[\"size_of_srh5_files\"])))\n",
    "print(\"Number of project related files found: {0:d}\".format(computed[\"number_of_project_files\"]))\n",
    "print(\"Size of project related files: {0:s}.\".format(format_size(computed[\"size_of_project_files\"])))"
   ]
  },
  {
   "cell_type": "markdown",
   "metadata": {
    "slideshow": {
     "slide_type": "-"
    }
   },
   "source": [
    "<pre id=\"smaller\">\n",
    "Number of files found: 14453309\n",
    "Size of files: 437.11 TB.\n",
    "Number of srh5 files found: 1190063\n",
    "Size of srh5 files: 322.18 TB.\n",
    "Number of project related files found: 8115216\n",
    "Size of project related files: 372.86 TB.\n",
    "</pre>"
   ]
  },
  {
   "cell_type": "markdown",
   "metadata": {
    "collapsed": true,
    "slideshow": {
     "slide_type": "slide"
    },
    "tags": [
     "finalslide"
    ]
   },
   "source": [
    "<img src=\"images/slides_closingpage.png\">"
   ]
  }
 ],
 "metadata": {
  "celltoolbar": "Slideshow",
  "kernelspec": {
   "display_name": "Python 3",
   "language": "python",
   "name": "python3"
  },
  "language_info": {
   "codemirror_mode": {
    "name": "ipython",
    "version": 3
   },
   "file_extension": ".py",
   "mimetype": "text/x-python",
   "name": "python",
   "nbconvert_exporter": "python",
   "pygments_lexer": "ipython3",
   "version": "3.5.3"
  },
  "livereveal": {
   "start_slideshow_at": "selected"
  }
 },
 "nbformat": 4,
 "nbformat_minor": 2
}
